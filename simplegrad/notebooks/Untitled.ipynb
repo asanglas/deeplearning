{
 "cells": [
  {
   "cell_type": "code",
   "execution_count": null,
   "id": "3e097b5e",
   "metadata": {},
   "outputs": [],
   "source": [
    "def deepwalk(self):\n",
    "    def _deepwalk(node, visited, nodes):\n",
    "        visited.add(node)\n",
    "        if node._ctx:\n",
    "            [_deepwalk(i, visited, nodes) for i in node._ctx.parents if i not in visited]\n",
    "            nodes.append(node)\n",
    "        return nodes\n",
    "    return _deepwalk(self, set(), [])\n"
   ]
  }
 ],
 "metadata": {
  "kernelspec": {
   "display_name": "Python 3.9.0 64-bit ('3.9.0')",
   "language": "python",
   "name": "python3"
  },
  "language_info": {
   "codemirror_mode": {
    "name": "ipython",
    "version": 3
   },
   "file_extension": ".py",
   "mimetype": "text/x-python",
   "name": "python",
   "nbconvert_exporter": "python",
   "pygments_lexer": "ipython3",
   "version": "3.9.0"
  },
  "vscode": {
   "interpreter": {
    "hash": "c2847bffa1ec9c5d6f9efcb247106170ef80f689e6615729333f718aff6a6963"
   }
  }
 },
 "nbformat": 4,
 "nbformat_minor": 5
}
