{
 "cells": [
  {
   "cell_type": "code",
   "execution_count": 139,
   "metadata": {},
   "outputs": [
    {
     "name": "stdout",
     "output_type": "stream",
     "text": [
      "%pylab is deprecated, use %matplotlib inline and import the required libraries.\n",
      "Populating the interactive namespace from numpy and matplotlib\n"
     ]
    }
   ],
   "source": [
    "%pylab inline\n",
    "import numpy as np\n",
    "from tqdm import trange\n",
    "import torch\n",
    "import torch.nn.functional as F"
   ]
  },
  {
   "cell_type": "code",
   "execution_count": null,
   "metadata": {},
   "outputs": [],
   "source": [
    "# from https://www.youtube.com/watch?v=TCH_1BHY58I"
   ]
  },
  {
   "cell_type": "code",
   "execution_count": 6,
   "metadata": {},
   "outputs": [
    {
     "data": {
      "text/plain": [
       "['emma', 'olivia', 'ava', 'isabella', 'sophia', 'charlotte', 'mia', 'amelia']"
      ]
     },
     "execution_count": 6,
     "metadata": {},
     "output_type": "execute_result"
    }
   ],
   "source": [
    "words = open(\"./names.txt\", 'r').read().split()\n",
    "words[:8]"
   ]
  },
  {
   "cell_type": "code",
   "execution_count": 32,
   "metadata": {},
   "outputs": [
    {
     "data": {
      "text/plain": [
       "32033"
      ]
     },
     "execution_count": 32,
     "metadata": {},
     "output_type": "execute_result"
    }
   ],
   "source": [
    "len(words) # we have 32033 words"
   ]
  },
  {
   "cell_type": "code",
   "execution_count": 31,
   "metadata": {},
   "outputs": [],
   "source": [
    "# our vocabulary dictionary\n",
    "chars = sorted(list(set(''.join(words))))\n",
    "stoi = {s:i+1 for i,s in enumerate(chars)}\n",
    "stoi['.'] = 0 \n",
    "itos = {i:s for s,i in stoi.items()}"
   ]
  },
  {
   "cell_type": "code",
   "execution_count": 62,
   "metadata": {},
   "outputs": [
    {
     "data": {
      "text/plain": [
       "26"
      ]
     },
     "execution_count": 62,
     "metadata": {},
     "output_type": "execute_result"
    }
   ],
   "source": [
    "len(chars) # we have a set of chars of 26 + eos (.)"
   ]
  },
  {
   "cell_type": "code",
   "execution_count": 39,
   "metadata": {},
   "outputs": [
    {
     "data": {
      "text/plain": [
       "'abc'"
      ]
     },
     "execution_count": 39,
     "metadata": {},
     "output_type": "execute_result"
    }
   ],
   "source": [
    "''.join([itos[i] for i in a])"
   ]
  },
  {
   "cell_type": "code",
   "execution_count": 171,
   "metadata": {},
   "outputs": [],
   "source": [
    "# building the dataset\n",
    "'''\n",
    "The data set corresponds to a set of context X, and a prediction next character Y.\n",
    "block_size will the size of the context\n",
    "'''\n",
    "block_size = 3\n",
    "X, Y = [], []\n",
    "\n",
    "for w in words:\n",
    "    # print(w)\n",
    "    context = [0] * block_size\n",
    "    for c in w + \".\":\n",
    "        # for the first iteration\n",
    "        ix = stoi[c]\n",
    "        X.append(context)\n",
    "        Y.append(ix)\n",
    "\n",
    "        # print(f\"{''.join([itos[i] for i in context])} ---> {itos[ix]}\")\n",
    "        context = context[1:] + [ix]\n",
    "\n",
    "X = torch.tensor(X)\n",
    "Y = torch.tensor(Y)"
   ]
  },
  {
   "cell_type": "code",
   "execution_count": 172,
   "metadata": {},
   "outputs": [
    {
     "data": {
      "text/plain": [
       "(torch.Size([228146, 3]), torch.Size([228146]))"
      ]
     },
     "execution_count": 172,
     "metadata": {},
     "output_type": "execute_result"
    }
   ],
   "source": [
    "X.shape, Y.shape"
   ]
  },
  {
   "cell_type": "code",
   "execution_count": 203,
   "metadata": {},
   "outputs": [],
   "source": [
    "# INITIALIZATION\n",
    "# lookup table C. We construct and embedding for the contexts.\n",
    "dim_emb = 2\n",
    "nneurons = 100\n",
    "g = torch.Generator().manual_seed(2147483647)\n",
    "# hidden layer. The number of inputs is 3x2. We have three characters for the context and the embeding is two dimensional\n",
    "C = torch.randn((27,dim_emb), generator=g)\n",
    "\n",
    "W1 = torch.randn((block_size * dim_emb, nneurons), generator=g)\n",
    "b1 = torch.randn(nneurons, generator=g)\n",
    "\n",
    "W2 = torch.randn((nneurons,  27), generator=g)\n",
    "b2 = torch.randn(27, generator=g)\n",
    "\n",
    "parameters = [C, W1, b1, W2, b2]\n",
    "\n",
    "for p in parameters:\n",
    "    p.requires_grad = True"
   ]
  },
  {
   "cell_type": "code",
   "execution_count": 199,
   "metadata": {},
   "outputs": [],
   "source": [
    "lre = torch.linspace(-3,0,1000)\n",
    "klrs = 10**lre"
   ]
  },
  {
   "cell_type": "code",
   "execution_count": 206,
   "metadata": {},
   "outputs": [
    {
     "name": "stderr",
     "output_type": "stream",
     "text": [
      " loss: 2.6435, accuracy: 0.1250: 100%|█| 10000/10000 [00:31<00:00, 318.\n"
     ]
    }
   ],
   "source": [
    "# TRAINING\n",
    "epochs = 10000\n",
    "lr = 0.01\n",
    "batch_size = 32\n",
    "# losses = []\n",
    "\n",
    "for ep in (t := trange(epochs)):\n",
    "    # *** forward pass\n",
    "    ix = torch.randint(0, X.shape[0], (batch_size,))\n",
    "    \n",
    "    emb = C[X[ix]]\n",
    "    # torch.cat(emb.unbind(1),1) \n",
    "    h = torch.tanh(emb.view(-1, block_size * dim_emb) @ W1 + b1)\n",
    "    logits = h @ W2 + b2 \n",
    "    # counts = logits.exp()\n",
    "    # probs = counts / counts.sum(1, keepdim=True)\n",
    "    # loss = -probs[torch.arange(emb.shape[0]), Y].log().mean()\n",
    "    loss = F.cross_entropy(logits, Y[ix])\n",
    "    accuracy = torch.mean((torch.argmax(logits,dim=1) == Y[ix]).float() * torch.tensor(1))\n",
    "    \n",
    "    # *** backward pass\n",
    "    for p in parameters:\n",
    "        p.grad = None\n",
    "    loss.backward()\n",
    "    \n",
    "    # update\n",
    "    # lr = lrs[ep] \n",
    "    for p in parameters:\n",
    "        p.data += - lr * p.grad\n",
    "\n",
    "    # losses.append(loss.item())\n",
    "    t.set_description(f\" loss: {loss:.4f}, accuracy: {accuracy:.4f}\")"
   ]
  },
  {
   "cell_type": "code",
   "execution_count": 192,
   "metadata": {},
   "outputs": [
    {
     "name": "stdout",
     "output_type": "stream",
     "text": [
      "loss: 2.6750986576080322 | accuracy: 0.21990305185317993\n"
     ]
    }
   ],
   "source": [
    "# eval on the entire set\n",
    "emb = C[X]\n",
    "h = torch.tanh(emb.view(-1, block_size * dim_emb) @ W1 + b1)\n",
    "logits = h @ W2 + b2 \n",
    "loss = F.cross_entropy(logits, Y)\n",
    "accuracy = torch.mean((torch.argmax(logits,dim=1) == Y).float() * torch.tensor(1))\n",
    "print(f\"loss: {loss} | accuracy: {accuracy}\")\n",
    "    "
   ]
  },
  {
   "cell_type": "code",
   "execution_count": null,
   "metadata": {},
   "outputs": [],
   "source": []
  }
 ],
 "metadata": {
  "kernelspec": {
   "display_name": "Python 3 (ipykernel)",
   "language": "python",
   "name": "python3"
  },
  "language_info": {
   "codemirror_mode": {
    "name": "ipython",
    "version": 3
   },
   "file_extension": ".py",
   "mimetype": "text/x-python",
   "name": "python",
   "nbconvert_exporter": "python",
   "pygments_lexer": "ipython3",
   "version": "3.9.16"
  },
  "vscode": {
   "interpreter": {
    "hash": "48f85cf0300d763a5dbec58cd921eb291e6775c181029a873ddf79024bfed4b5"
   }
  }
 },
 "nbformat": 4,
 "nbformat_minor": 2
}
